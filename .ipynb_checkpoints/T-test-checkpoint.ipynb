{
 "cells": [
  {
   "cell_type": "code",
   "execution_count": null,
   "metadata": {},
   "outputs": [],
   "source": [
    "import numpy as np\n",
    "import pandas as pd\n",
    "import scipy.stats as stats"
   ]
  },
  {
   "cell_type": "code",
   "execution_count": null,
   "metadata": {},
   "outputs": [],
   "source": [
    "# T test\n",
    "data = pd.read_csv('student-mat.csv')\n",
    "data.head()\n",
    "Ddrink = data['Dalc'].values\n",
    "Wdrink = data['Walc'].values\n",
    "\n",
    "sum_drink = [Ddrink, wDrink]\n",
    "[sum(x) for x in zip(*sum_drink)]\n",
    "\n",
    "#travel time correlation\n",
    "traveltime = data['traveltime'].values\n",
    "t, p = ttest_ind(sum_drink, traveltime, equal_var=False)\n",
    "print(\"ttest_ind:            t = %g  p = %g\" % (t, p))\n",
    "\n",
    "\n",
    "#study  time correlation\n",
    "\n",
    "studytime = data['studytime'].values\n",
    "t, p = ttest_ind(sum_drink, studytime, equal_var=False)\n",
    "print(\"ttest_ind:            t = %g  p = %g\" % (t, p))\n",
    "\n",
    "#free time correlation\n",
    "freetime = data['freetime'].values\n",
    "t, p = ttest_ind(sum_drink, freetime, equal_var=False)\n",
    "print(\"ttest_ind:            t = %g  p = %g\" % (t, p))\n",
    "\n",
    "#going out correlation\n",
    "\n",
    "goout = data['goout'].values\n",
    "t, p = ttest_ind(sum_drink, goout, equal_var=False)\n",
    "print(\"ttest_ind:            t = %g  p = %g\" % (t, p))\n",
    "\n"
   ]
  }
 ],
 "metadata": {
  "kernelspec": {
   "display_name": "Python 3",
   "language": "python",
   "name": "python3"
  },
  "language_info": {
   "codemirror_mode": {
    "name": "ipython",
    "version": 3
   },
   "file_extension": ".py",
   "mimetype": "text/x-python",
   "name": "python",
   "nbconvert_exporter": "python",
   "pygments_lexer": "ipython3",
   "version": "3.6.3"
  }
 },
 "nbformat": 4,
 "nbformat_minor": 2
}
